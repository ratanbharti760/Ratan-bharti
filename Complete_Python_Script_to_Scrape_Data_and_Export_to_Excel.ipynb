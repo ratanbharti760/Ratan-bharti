{
  "cells": [
    {
      "cell_type": "markdown",
      "metadata": {
        "id": "view-in-github",
        "colab_type": "text"
      },
      "source": [
        "<a href=\"https://colab.research.google.com/github/ratanbharti760/Ratan-bharti/blob/main/Complete_Python_Script_to_Scrape_Data_and_Export_to_Excel.ipynb\" target=\"_parent\"><img src=\"https://colab.research.google.com/assets/colab-badge.svg\" alt=\"Open In Colab\"/></a>"
      ]
    },
    {
      "cell_type": "code",
      "source": [
        "  import requests\n",
        "from bs4 import BeautifulSoup\n",
        "import pandas as pd # Import the pandas library\n",
        "\n",
        "# Your existing data fetching logic\n",
        clg = [102,103,106,108,109,110,111,113,115,117,118,119,121,122,123,124,125,126,127,128,129,130,131,132,133,134,135,136,139,140,141,142,144,145,146,147,148,149,150,151,152,153,154,155,156,157,158,159,165]
        "name = []\n",
        "reg = []\n",
        "cgpa = []\n",
        "regno = \"20105\"\n",
        "leregno = \"21105\"\n",
        "\n",
        "def frm(x):\n",
        "    \"\"\"\n",
        "    Helper function to format numbers with leading zeros.\n",
        "    Used for generating registration numbers.\n",
        "    \"\"\"\n",
        "    if(x<10):\n",
        "        return \"00\"+str(x)\n",
        "    else:\n",
        "        return \"0\"+str(x)\n",
        "\n",
        "# Initialize 9 lists for CGPA (one for each semester + overall)\n",
        "for i in range(0,9):\n",
        "    cgpa.append([])\n",
        "\n",
        "# Loop through colleges and registration numbers to scrape data\n",
        "for k in clg:\n",
        "    for i in set(range(1,65)).union(range(901,915)):\n",
        "        # Construct the registration number based on the loop variable\n",
        "        if(i < 70):\n",
        "            reno = regno + str(k) + frm(i)\n",
        "        else:\n",
        "            reno = leregno + str(k) + str(i)\n",
        "        try:\n",
        "            # Construct the URL for the result page\n",
        "            url=\"http://results.beup.ac.in/ResultsBTech8thSem2024Pub.aspx?Sem=VIII&RegNo=\" + reno\n",
        "            response = requests.get(url)\n",
        "            sp = BeautifulSoup(response.content, 'html.parser')\n",
        "\n",
        "            # Extract student name\n",
        "            nm = (sp.find_all(\"span\", id=\"ContentPlaceHolder1_DataList1_StudentNameLabel_0\"))[0]\n",
        "            name.append(nm.string)\n",
        "\n",
        "            # Extract registration number\n",
        "            regn = (sp.find_all(\"span\", id=\"ContentPlaceHolder1_DataList1_RegistrationNoLabel_0\"))[0]\n",
        "            reg.append(regn.string)\n",
        "\n",
        "            # Extract CGPA table\n",
        "            table = (sp.find_all(\"table\", id=\"ContentPlaceHolder1_GridView3\"))[0]\n",
        "            row = (table.find_all(\"tr\")[1]).find_all(\"td\") # Get the second row which contains CGPA data\n",
        "            ct = 0\n",
        "            for j in row:\n",
        "                cgpa[ct].append(j.string) # Append each CGPA value to its respective list\n",
        "                ct += 1\n",
        "        except Exception as e: # Catch any errors during scraping and print them\n",
        "            # print(f\"Error for registration number {reno}: {e}\") # Uncomment for detailed error logging\n",
        "            continue # Continue to the next registration number if an error occurs\n",
        "    print(f\"Done processing college code: {k}\")\n",
        "\n",
        "# Create the Pandas DataFrame from the scraped data\n",
        "df = pd.DataFrame({\n",
        "    \"Name\": name,\n",
        "    \"Reg No.\": reg,\n",
        "    \"Sem 1\": cgpa[0],\n",
        "    \"Sem 2\": cgpa[1],\n",
        "    \"Sem 3\": cgpa[2],\n",
        "    \"Sem 4\": cgpa[3],\n",
        "    \"Sem 5\": cgpa[4],\n",
        "    \"Sem 6\": cgpa[5],\n",
        "    \"Sem 7\": cgpa[6],\n",
        "    \"Sem 8\": cgpa[7],\n",
        "    \"Overall\": cgpa[8]\n",
        "})\n",
        "\n",
        "# Export the DataFrame to an Excel file\n",
        "# 'BEUscrapCSE.xlsx' is the desired filename.\n",
        "# index=False prevents pandas from writing the DataFrame index as a column in the Excel file.\n",
        "df.to_excel('BEUscrapCSE.xlsx', index=False)\n",
        "\n",
        "print(\"DataFrame successfully exported to BEUscrapCSE.xlsx\")"
      ],
      "outputs": [],
      "execution_count": null,
      "metadata": {
        "id": "LDSQKlYCTjpM"
      }
    },
    {
      "cell_type": "markdown",
      "source": [
        "# New Section"
      ],
      "metadata": {
        "id": "usLokP6JkTRa"
      }
    }
  ],
  "metadata": {
    "colab": {
      "provenance": [],
      "include_colab_link": true
    },
    "kernelspec": {
      "display_name": "Python 3",
      "name": "python3"
    }
  },
  "nbformat": 4,
  "nbformat_minor": 0
}
